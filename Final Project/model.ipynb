{
 "cells": [
  {
   "cell_type": "code",
   "execution_count": 118,
   "metadata": {},
   "outputs": [],
   "source": [
    "import pandas as pd\n",
    "from random import randint\n",
    "import numpy as np\n",
    "import torch\n",
    "import torch.nn as nn\n",
    "import torch.optim as optim\n",
    "import torch.functional as F\n",
    "from torcheval.metrics import BinaryAccuracy\n",
    "from torch.utils.data import DataLoader\n",
    "from torch.utils.data import Dataset\n",
    "from sklearn.model_selection import train_test_split\n",
    "import seaborn as sb\n",
    "import matplotlib.pyplot as plt"
   ]
  },
  {
   "attachments": {},
   "cell_type": "markdown",
   "metadata": {},
   "source": [
    "Import modul-modul yang diperlukan"
   ]
  },
  {
   "cell_type": "code",
   "execution_count": 2,
   "metadata": {},
   "outputs": [],
   "source": [
    "from models import InferSent\n",
    "MODEL_PATH = \"encoder/infersent2.pkl\"\n",
    "params_model = {'bsize': 64, 'word_emb_dim': 300, 'enc_lstm_dim': 2048,\n",
    "                'pool_type': 'max', 'dpout_model': 0.0, 'version': 2}\n",
    "model = InferSent(params_model)\n",
    "model.load_state_dict(torch.load(MODEL_PATH))\n",
    "\n",
    "W2V_PATH = 'fastText/crawl-300d-2M.vec'\n",
    "model.set_w2v_path(W2V_PATH)"
   ]
  },
  {
   "cell_type": "code",
   "execution_count": 3,
   "metadata": {},
   "outputs": [
    {
     "name": "stdout",
     "output_type": "stream",
     "text": [
      "Vocab size : 50000\n"
     ]
    }
   ],
   "source": [
    "model.build_vocab_k_words(K=50000)"
   ]
  },
  {
   "attachments": {},
   "cell_type": "markdown",
   "metadata": {},
   "source": [
    "Menginstansiasi model infersent untuk menghasilkan sentence embeddings"
   ]
  },
  {
   "cell_type": "code",
   "execution_count": 4,
   "metadata": {},
   "outputs": [],
   "source": [
    "# Membaca dataset yang telah dibersihkan\n",
    "dataset = pd.read_json('clean.json')\n",
    "\n",
    "# List genre yang paling relevan\n",
    "GENRES = ['Drama', 'Comedy', 'Adventure', 'Action', 'Thriller', 'Romance', 'Mystery', 'Sci-Fi', 'Fantasy']\n",
    "\n",
    "# Konversi menjadi array of boolean agar dapat diproses pytorch\n",
    "dataset['Genre'] = dataset['Genre'].apply(lambda x: np.isin(GENRES, x))"
   ]
  },
  {
   "attachments": {},
   "cell_type": "markdown",
   "metadata": {},
   "source": [
    "Konversi genre pada dataframe menjadi array of boolean"
   ]
  },
  {
   "cell_type": "code",
   "execution_count": 5,
   "metadata": {},
   "outputs": [
    {
     "name": "stdout",
     "output_type": "stream",
     "text": [
      "Nb words kept : 21420/24424 (87.7%)\n"
     ]
    },
    {
     "name": "stderr",
     "output_type": "stream",
     "text": [
      "c:\\Users\\ardap\\OneDrive\\Desktop\\Koding\\Kuliah\\Semester 4\\Keluarga Berencana\\Kelompok\\FP-KB\\models.py:207: VisibleDeprecationWarning: Creating an ndarray from ragged nested sequences (which is a list-or-tuple of lists-or-tuples-or ndarrays with different lengths or shapes) is deprecated. If you meant to do this, you must specify 'dtype=object' when creating the ndarray.\n",
      "  sentences = np.array(sentences)[idx_sort]\n"
     ]
    },
    {
     "name": "stdout",
     "output_type": "stream",
     "text": [
      "Speed : 57.9 sentences/s (cpu mode, bsize=128)\n"
     ]
    }
   ],
   "source": [
    "# Menghasilkan sentence embedding\n",
    "embeddings = model.encode(dataset['Overview'].to_numpy(), bsize=128, tokenize=False, verbose=True)"
   ]
  },
  {
   "cell_type": "code",
   "execution_count": 6,
   "metadata": {},
   "outputs": [
    {
     "data": {
      "text/html": [
       "<div>\n",
       "<style scoped>\n",
       "    .dataframe tbody tr th:only-of-type {\n",
       "        vertical-align: middle;\n",
       "    }\n",
       "\n",
       "    .dataframe tbody tr th {\n",
       "        vertical-align: top;\n",
       "    }\n",
       "\n",
       "    .dataframe thead th {\n",
       "        text-align: right;\n",
       "    }\n",
       "</style>\n",
       "<table border=\"1\" class=\"dataframe\">\n",
       "  <thead>\n",
       "    <tr style=\"text-align: right;\">\n",
       "      <th></th>\n",
       "      <th>Embeddings</th>\n",
       "      <th>Genre</th>\n",
       "    </tr>\n",
       "  </thead>\n",
       "  <tbody>\n",
       "    <tr>\n",
       "      <th>0</th>\n",
       "      <td>[0.007468892261385918, 0.31835460662841797, 0....</td>\n",
       "      <td>[True, False, False, False, False, False, Fals...</td>\n",
       "    </tr>\n",
       "    <tr>\n",
       "      <th>1</th>\n",
       "      <td>[0.007468892261385918, 0.08130999654531479, 0....</td>\n",
       "      <td>[True, False, False, False, False, False, Fals...</td>\n",
       "    </tr>\n",
       "    <tr>\n",
       "      <th>2</th>\n",
       "      <td>[0.007468892261385918, 0.03828967735171318, 0....</td>\n",
       "      <td>[True, False, False, True, False, False, False...</td>\n",
       "    </tr>\n",
       "    <tr>\n",
       "      <th>3</th>\n",
       "      <td>[0.007468892261385918, 0.03102203458547592, 0....</td>\n",
       "      <td>[True, False, False, False, False, False, Fals...</td>\n",
       "    </tr>\n",
       "    <tr>\n",
       "      <th>4</th>\n",
       "      <td>[0.007468892261385918, 0.025840800255537033, 0...</td>\n",
       "      <td>[True, False, False, False, False, False, Fals...</td>\n",
       "    </tr>\n",
       "    <tr>\n",
       "      <th>...</th>\n",
       "      <td>...</td>\n",
       "      <td>...</td>\n",
       "    </tr>\n",
       "    <tr>\n",
       "      <th>842</th>\n",
       "      <td>[0.007468892261385918, 0.18604639172554016, 0....</td>\n",
       "      <td>[False, True, False, False, False, False, Fals...</td>\n",
       "    </tr>\n",
       "    <tr>\n",
       "      <th>843</th>\n",
       "      <td>[0.007468892261385918, 0.15518277883529663, 0....</td>\n",
       "      <td>[True, True, False, False, False, True, False,...</td>\n",
       "    </tr>\n",
       "    <tr>\n",
       "      <th>844</th>\n",
       "      <td>[0.007468892261385918, 0.06997597217559814, 0....</td>\n",
       "      <td>[True, False, False, False, False, True, False...</td>\n",
       "    </tr>\n",
       "    <tr>\n",
       "      <th>845</th>\n",
       "      <td>[0.007468892261385918, 0.023567846044898033, 0...</td>\n",
       "      <td>[True, False, False, False, False, False, Fals...</td>\n",
       "    </tr>\n",
       "    <tr>\n",
       "      <th>846</th>\n",
       "      <td>[0.007468892261385918, 0.17722874879837036, 0....</td>\n",
       "      <td>[False, False, False, False, True, False, True...</td>\n",
       "    </tr>\n",
       "  </tbody>\n",
       "</table>\n",
       "<p>847 rows × 2 columns</p>\n",
       "</div>"
      ],
      "text/plain": [
       "                                            Embeddings  \\\n",
       "0    [0.007468892261385918, 0.31835460662841797, 0....   \n",
       "1    [0.007468892261385918, 0.08130999654531479, 0....   \n",
       "2    [0.007468892261385918, 0.03828967735171318, 0....   \n",
       "3    [0.007468892261385918, 0.03102203458547592, 0....   \n",
       "4    [0.007468892261385918, 0.025840800255537033, 0...   \n",
       "..                                                 ...   \n",
       "842  [0.007468892261385918, 0.18604639172554016, 0....   \n",
       "843  [0.007468892261385918, 0.15518277883529663, 0....   \n",
       "844  [0.007468892261385918, 0.06997597217559814, 0....   \n",
       "845  [0.007468892261385918, 0.023567846044898033, 0...   \n",
       "846  [0.007468892261385918, 0.17722874879837036, 0....   \n",
       "\n",
       "                                                 Genre  \n",
       "0    [True, False, False, False, False, False, Fals...  \n",
       "1    [True, False, False, False, False, False, Fals...  \n",
       "2    [True, False, False, True, False, False, False...  \n",
       "3    [True, False, False, False, False, False, Fals...  \n",
       "4    [True, False, False, False, False, False, Fals...  \n",
       "..                                                 ...  \n",
       "842  [False, True, False, False, False, False, Fals...  \n",
       "843  [True, True, False, False, False, True, False,...  \n",
       "844  [True, False, False, False, False, True, False...  \n",
       "845  [True, False, False, False, False, False, Fals...  \n",
       "846  [False, False, False, False, True, False, True...  \n",
       "\n",
       "[847 rows x 2 columns]"
      ]
     },
     "execution_count": 6,
     "metadata": {},
     "output_type": "execute_result"
    }
   ],
   "source": [
    "dataset['Embeddings'] = embeddings.tolist()\n",
    "dataset = dataset[['Embeddings', 'Genre']]\n",
    "dataset"
   ]
  },
  {
   "attachments": {},
   "cell_type": "markdown",
   "metadata": {},
   "source": [
    "Hasil konversi menjadi array of boolean"
   ]
  },
  {
   "cell_type": "code",
   "execution_count": 39,
   "metadata": {},
   "outputs": [],
   "source": [
    "# Mengasilkan dataset untuk training dan testing (validasi)\n",
    "train_ds, test_ds = train_test_split(dataset, test_size=0.1)\n",
    "train_ds = train_ds.reset_index(drop=True)\n",
    "test_ds = test_ds.reset_index(drop=True)"
   ]
  },
  {
   "attachments": {},
   "cell_type": "markdown",
   "metadata": {},
   "source": [
    "Memisahkan data untuk training dan testing dengan split 10% (90% training, 10% testing)"
   ]
  },
  {
   "cell_type": "code",
   "execution_count": 40,
   "metadata": {},
   "outputs": [],
   "source": [
    "# Membuat dataset tensor pytorch\n",
    "class SynopsisDataset(Dataset):\n",
    "    def __init__(self, df):\n",
    "        self.X = torch.Tensor(df['Embeddings'])\n",
    "        self.y = torch.Tensor(df['Genre'])\n",
    "\n",
    "    def __len__(self):\n",
    "        return self.y.shape[0]\n",
    "    \n",
    "    def __getitem__(self, idx):\n",
    "        return self.X[idx], self.y[idx]\n",
    "    \n",
    "train_dataset = SynopsisDataset(train_ds)\n",
    "test_dataset = SynopsisDataset(test_ds)\n"
   ]
  },
  {
   "attachments": {},
   "cell_type": "markdown",
   "metadata": {},
   "source": [
    "Mendefinisikan dataset untuk pytorch agar bisa menggunakan dataloader"
   ]
  },
  {
   "cell_type": "code",
   "execution_count": 55,
   "metadata": {},
   "outputs": [],
   "source": [
    "# Definisi classification neural network\n",
    "class ClassificationNN(nn.Module):\n",
    "    def __init__(self, input_size, num_classes):\n",
    "        super().__init__()\n",
    "        self.dense1 = nn.Linear(input_size, 1024)\n",
    "        self.dense2 = nn.Linear(1024, 1024)\n",
    "        self.dense3 = nn.Linear(1024, 1024)\n",
    "        self.dense4 = nn.Linear(1024, num_classes)\n",
    "\n",
    "    def forward(self, x):\n",
    "        x = torch.relu(self.dense1(x))\n",
    "        x = torch.relu(self.dense2(x))\n",
    "        x = torch.relu(self.dense3(x))\n",
    "        x = torch.sigmoid(self.dense4(x))\n",
    "        return x"
   ]
  },
  {
   "attachments": {},
   "cell_type": "markdown",
   "metadata": {},
   "source": [
    "Mendefinisikan neural network untuk klasifikasi genre"
   ]
  },
  {
   "cell_type": "code",
   "execution_count": 10,
   "metadata": {},
   "outputs": [],
   "source": [
    "# Hyperparameter model\n",
    "input_size = 4096\n",
    "batch_size = 100\n",
    "num_classes = 9\n",
    "learning_rate = 1e-3\n",
    "epochs = 20"
   ]
  },
  {
   "cell_type": "code",
   "execution_count": 41,
   "metadata": {},
   "outputs": [],
   "source": [
    "# Data loader untuk model\n",
    "train_load = DataLoader(train_dataset, batch_size, shuffle=True)\n",
    "test_load = DataLoader(test_dataset, batch_size, shuffle=True)"
   ]
  },
  {
   "attachments": {},
   "cell_type": "markdown",
   "metadata": {},
   "source": [
    "Menginstansiasikan data loader pytorch"
   ]
  },
  {
   "cell_type": "code",
   "execution_count": 146,
   "metadata": {},
   "outputs": [
    {
     "data": {
      "text/plain": [
       "ClassificationNN(\n",
       "  (dense1): Linear(in_features=4096, out_features=1024, bias=True)\n",
       "  (dense2): Linear(in_features=1024, out_features=1024, bias=True)\n",
       "  (dense3): Linear(in_features=1024, out_features=1024, bias=True)\n",
       "  (dense4): Linear(in_features=1024, out_features=9, bias=True)\n",
       ")"
      ]
     },
     "execution_count": 146,
     "metadata": {},
     "output_type": "execute_result"
    }
   ],
   "source": [
    "# Instansiasi\n",
    "cmodel = ClassificationNN(input_size, num_classes)\n",
    "cmodel"
   ]
  },
  {
   "attachments": {},
   "cell_type": "markdown",
   "metadata": {},
   "source": [
    "Menginstansiasikan neural network klasifikasi"
   ]
  },
  {
   "cell_type": "code",
   "execution_count": 147,
   "metadata": {},
   "outputs": [],
   "source": [
    "# Rumus loss dan optimizer yang digunakan\n",
    "loss = nn.BCELoss()\n",
    "optimizer = optim.Adam(cmodel.parameters(), lr=learning_rate)"
   ]
  },
  {
   "attachments": {},
   "cell_type": "markdown",
   "metadata": {},
   "source": [
    "Menentukan perhitungan loss dan optimizer yang akan digunakan"
   ]
  },
  {
   "cell_type": "code",
   "execution_count": 148,
   "metadata": {},
   "outputs": [
    {
     "name": "stdout",
     "output_type": "stream",
     "text": [
      "epoch : 0\tloss: 0.41140255331993103\taccuracy : 0.7690288424491882\n",
      "epoch : 1\tloss: 0.48275795578956604\taccuracy : 0.8057742714881897\n",
      "epoch : 2\tloss: 0.38308796286582947\taccuracy : 0.8180227279663086\n",
      "epoch : 3\tloss: 0.4230937063694\taccuracy : 0.8241469860076904\n",
      "epoch : 4\tloss: 0.3860051929950714\taccuracy : 0.8278214931488037\n",
      "epoch : 5\tloss: 0.3679950535297394\taccuracy : 0.8302712440490723\n",
      "epoch : 6\tloss: 0.38357794284820557\taccuracy : 0.8320209980010986\n",
      "epoch : 7\tloss: 0.33621516823768616\taccuracy : 0.8342629075050354\n",
      "epoch : 8\tloss: 0.30834275484085083\taccuracy : 0.8375619649887085\n",
      "epoch : 9\tloss: 0.3289795517921448\taccuracy : 0.8403761982917786\n",
      "epoch : 10\tloss: 0.2649426758289337\taccuracy : 0.8433945775032043\n",
      "epoch : 11\tloss: 0.2728864550590515\taccuracy : 0.8462501168251038\n",
      "epoch : 12\tloss: 0.2709420323371887\taccuracy : 0.8489916324615479\n",
      "epoch : 13\tloss: 0.2304953783750534\taccuracy : 0.8519455790519714\n",
      "epoch : 14\tloss: 0.18650272488594055\taccuracy : 0.8553028106689453\n",
      "epoch : 15\tloss: 0.21044743061065674\taccuracy : 0.8587780594825745\n",
      "epoch : 16\tloss: 0.17438846826553345\taccuracy : 0.8628737330436707\n",
      "epoch : 17\tloss: 0.13298839330673218\taccuracy : 0.8670895099639893\n",
      "epoch : 18\tloss: 0.13165800273418427\taccuracy : 0.8712605834007263\n",
      "epoch : 19\tloss: 0.12040550261735916\taccuracy : 0.8754082918167114\n",
      "epoch : 20\tloss: 0.08766324818134308\taccuracy : 0.8795844912528992\n"
     ]
    }
   ],
   "source": [
    "# Metrik akurasi training\n",
    "accuracy = BinaryAccuracy()\n",
    "history = {'accuracy': [], 'loss': []}\n",
    "# Training model\n",
    "for epoch in range(epochs+1):\n",
    "    for batch_num, (synopses, targets) in enumerate(train_load):\n",
    "        # Forward. Predict and calculate loss\n",
    "        scores = cmodel(synopses)\n",
    "        losses = loss(scores, targets)\n",
    "        for (output, target) in zip(scores, targets):\n",
    "            accuracy.update(output, target)\n",
    "        # Backward propagration\n",
    "        optimizer.zero_grad()\n",
    "        losses.backward()\n",
    "        optimizer.step()\n",
    "    acc = accuracy.compute().item()\n",
    "    print(f'epoch : {epoch}\\tloss: {losses.data}\\taccuracy : {acc}')\n",
    "    history['accuracy'].append(acc)\n",
    "    history['loss'].append(losses.data.item())\n",
    "    "
   ]
  },
  {
   "attachments": {},
   "cell_type": "markdown",
   "metadata": {},
   "source": [
    "Training"
   ]
  },
  {
   "cell_type": "code",
   "execution_count": 151,
   "metadata": {},
   "outputs": [
    {
     "data": {
      "image/png": "[encoded data removed]",
      "text/plain": [
       "<Figure size 640x480 with 1 Axes>"
      ]
     },
     "metadata": {},
     "output_type": "display_data"
    }
   ],
   "source": [
    "data = {'train_accuracy': history['accuracy'], 'train_loss': history['loss']}\n",
    "plot = sb.lineplot(data).set_xticks(range(0,len(history['accuracy']),int(len(history['accuracy'])/5)))"
   ]
  },
  {
   "attachments": {},
   "cell_type": "markdown",
   "metadata": {},
   "source": [
    "Diatas adalah grafik perubahan akurasi dan loss pada saat training"
   ]
  },
  {
   "cell_type": "code",
   "execution_count": 156,
   "metadata": {},
   "outputs": [
    {
     "name": "stdout",
     "output_type": "stream",
     "text": [
      "Nb words kept : 32/37 (86.5%)\n",
      "Speed : 3.6 sentences/s (cpu mode, bsize=128)\n",
      "tensor(0.9131, grad_fn=<UnbindBackward0>)\n",
      "tensor(0.9369, grad_fn=<UnbindBackward0>)\n",
      "tensor(4.9106e-05, grad_fn=<UnbindBackward0>)\n",
      "tensor(1.0867e-08, grad_fn=<UnbindBackward0>)\n",
      "tensor(4.8591e-05, grad_fn=<UnbindBackward0>)\n",
      "tensor(0.9373, grad_fn=<UnbindBackward0>)\n",
      "tensor(0.0034, grad_fn=<UnbindBackward0>)\n",
      "tensor(0.0040, grad_fn=<UnbindBackward0>)\n",
      "tensor(0.0978, grad_fn=<UnbindBackward0>)\n"
     ]
    },
    {
     "data": {
      "text/plain": [
       "['Drama', 'Comedy', 'Romance']"
      ]
     },
     "execution_count": 156,
     "metadata": {},
     "output_type": "execute_result"
    }
   ],
   "source": [
    "\n",
    "def predict(synopses, tolerance=0.3):\n",
    "    synopses = model.encode(synopses, bsize=128, tokenize=False, verbose=True)\n",
    "    result = cmodel(torch.Tensor(synopses))\n",
    "    genres = []\n",
    "    for tensor in result:\n",
    "        for idx ,dim in enumerate(tensor):\n",
    "            if dim > tolerance: genres.append(GENRES[idx])\n",
    "            print(dim)\n",
    "    return genres\n",
    "\n",
    "predict(['''As a shocking truth about a couple's families emerges, the two lovers discover they are not so different from each other. Tessa is no longer the sweet, simple girl she was when she met Hardin.'''])"
   ]
  },
  {
   "attachments": {},
   "cell_type": "markdown",
   "metadata": {},
   "source": [
    "Hasil prediksi model klasifikasi"
   ]
  }
 ],
 "metadata": {
  "kernelspec": {
   "display_name": "Python 3",
   "language": "python",
   "name": "python3"
  },
  "language_info": {
   "codemirror_mode": {
    "name": "ipython",
    "version": 3
   },
   "file_extension": ".py",
   "mimetype": "text/x-python",
   "name": "python",
   "nbconvert_exporter": "python",
   "pygments_lexer": "ipython3",
   "version": "3.10.6"
  },
  "orig_nbformat": 4
 },
 "nbformat": 4,
 "nbformat_minor": 2
}
